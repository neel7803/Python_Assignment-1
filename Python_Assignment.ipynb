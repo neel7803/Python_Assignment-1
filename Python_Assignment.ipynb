{
  "nbformat": 4,
  "nbformat_minor": 0,
  "metadata": {
    "colab": {
      "provenance": []
    },
    "kernelspec": {
      "name": "python3",
      "display_name": "Python 3"
    },
    "language_info": {
      "name": "python"
    }
  },
  "cells": [
    {
      "cell_type": "markdown",
      "source": [
        "                                 Python Assignment - 1\n",
        "\n",
        "1. What is Python, and why is it popular ?\n",
        "   - Python is a high-level, easy-to-learn programming language that is popular for its simplicity, readability, and versatility. It's used in many areas like web development, data science, machine learning, and automation. Its large library ecosystem, strong community support, and ability to run on multiple platforms make it a go-to choice for developers.\n",
        "  \n",
        "2. What is an interpreter in Python ?\n",
        "  - An interpreter in Python is a program that executes Python code directly line by line, without needing to compile it into machine code first.\n",
        "\n",
        "3. What are pre-defined keywords in Python ?\n",
        "  - Pre-defined keywords in Python are reserved words that have special meaning in the language. They cannot be used as variable names, function names, or identifiers. These keywords are part of the Python syntax and are used to define the structure and behavior of the language.\n",
        "\n",
        "4. Can keywords be used as variable names ?\n",
        "   - No, keywords cannot be used as variable names in Python. They are reserved words that have special meanings and are part of the language syntax. Using them as variable names will result in a syntax error.\n",
        "\n",
        "5. What is mutability in Python ?\n",
        "    - Mutability in Python refers to whether or not an object can be changed after it is created.\n",
        "    - These can be changed after creation (their content or state can be modified).\n",
        "      - list\n",
        "      -dict (dictionary)\n",
        "      -set\n",
        "6. Why are lists mutable, but tuples are immutable ?\n",
        "  - List\n",
        "    - Lists are designed to store a collection of items that may need to change — such as adding, removing, or updating elements.\n",
        "    - Python allows you to change list contents after it's created because lists are implemented to support modification operations (like .append(), .remove(), or assigning a new value by index).\n",
        "\n",
        " - tuple\n",
        "     - Tuples are designed for fixed data that shouldn't change — such as coordinates (x, y), configuration settings, or dictionary keys.\n",
        "     - Once a tuple is created, Python locks its contents, meaning you can’t add, remove, or change items.\n",
        "\n",
        "7. What is the difference between “==” and “is” operators in Python ?\n",
        "  - == (Equality operator)\n",
        "    - Checks if values are equal\n",
        "    - Compares the contents of two objects\n",
        "  -is (Identity operator)\n",
        "    - Checks if two variables point to the same object in memory\n",
        "    - Compares the object identities\n",
        "\n",
        "8. What are logical operators in Python ?\n",
        "  - In Python, logical operators are used to combine multiple conditions and return a boolean result (True or False). The three main logical operators are and, or, and not. The and operator returns True only if both conditions are true. The or operator returns True if at least one condition is true. The not operator reverses the result of a condition — turning True into False and also turns False into True. These operators are commonly used in decision-making statements like if, while, and logical expressions to control program flow.\n",
        "\n",
        "9. What is type casting in Python ?\n",
        "  - Type casting in Python means converting a value from one data type to another. For example, changing a number stored as a string into an actual integer, or converting a float to an integer.\n",
        "\n",
        "  - Python provides built-in functions to do this, such as:\n",
        "\n",
        "     -  int()   — converts to integer\n",
        "     -  float() — converts to floating-point number\n",
        "     -  str()   — converts to string\n",
        "     -  bool()  — converts to boolean (True or False)\n",
        "\n",
        "10. What is the difference between implicit and explicit type casting ?\n",
        "   - Implicit Type Casting\n",
        "     - Automatically done by Python without your intervention.\n",
        "     - Python converts one data type to another during operations to avoid errors.\n",
        "     - Happens when combining different types in expressions.\n",
        "\n",
        "   -  Explicit Type Casting (Type Conversion)\n",
        "     - Done manually by the programmer using functions like int(), float(), str().\n",
        "     - You explicitly tell Python to convert a value to a different type.\n",
        "\n",
        "11. What is the purpose of conditional statements in Python ?\n",
        "  - The purpose of conditional statements in Python is to make decisions in your code based on certain conditions. They allow the program to execute different blocks of code depending on whether a condition is True or False.\n",
        "     - Common conditional statements in Python :\n",
        "       - if — runs a block of code only if the condition is true\n",
        "       - elif — checks another condition if the previous if was false\n",
        "       - else — runs code if none of the above conditions were true\n",
        "      \n",
        "12. How does the elif statement work ?\n",
        "  - The elif statement in Python stands for \"else if\", and it's used to check multiple conditions one after another, after an initial if statement.\n",
        "\n",
        "  -  How it works:\n",
        "      1. Python checks the if condition first.\n",
        "      2. If it's False, it checks the elif condition(s) in order.\n",
        "      3. The first elif that is True will execute its block, and the rest are skipped.\n",
        "      4. If none of the if or elif conditions are True, the else block (if present) runs.\n",
        "  - elif lets you check multiple conditions, one by one, only the first true one runs.\n",
        "\n",
        "13. What is the difference between for and while loops ?\n",
        "\n",
        "  - In Python, both for and while loops are used to repeat a block of code, but they work differently. A for loop is used when you know in advance how many times you want to run the loop, usually by iterating over a sequence like a list, string, or range. On the other hand, a while loop is used when you don’t know the exact number of repetitions, and you want the loop to continue as long as a condition remains true. The for loop handles the loop control automatically, while the while loop requires you to manually update variables to eventually end the loop. In summary, use for for fixed iterations and while for condition-based repetition.\n",
        "\n",
        "14.  Describe a scenario where a while loop is more suitable than a for loop.\n",
        "    - A while loop is more suitable than a for loop when you don’t know in advance how many times the loop needs to run — that is, when the loop should continue based on a condition rather than a fixed number of iterations.\n",
        "     - Example :-  \n",
        "        - Suppose you are building a login system that keeps asking the user for a password until they enter the correct one.\n",
        "        - Why use while here?\n",
        "           - You don’t know how many attempts the user will need.\n",
        "           - The loop should run until the correct password is entered.\n",
        "           - A for loop wouldn’t work well here because it’s based on a known number of repetitions.\n",
        "    \n"
      ],
      "metadata": {
        "id": "9R-a6pXc9-Qy"
      }
    },
    {
      "cell_type": "code",
      "source": [
        "# 1. Write a Python program to print \"Hello, World!\"\n",
        "\n",
        "print(\"Hello, Wold\")\n"
      ],
      "metadata": {
        "colab": {
          "base_uri": "https://localhost:8080/"
        },
        "id": "Nr9eYq76mhAK",
        "outputId": "e3f74b98-712c-44c7-9a32-d207c30e292d"
      },
      "execution_count": 1,
      "outputs": [
        {
          "output_type": "stream",
          "name": "stdout",
          "text": [
            "Hello, Wold\n"
          ]
        }
      ]
    },
    {
      "cell_type": "code",
      "source": [
        "# 2. Write a Python program that displays your name and age\n",
        "name = str(input(\"Enter Your Name :- \"))\n",
        "age = int(input(\"Enter Your Age :- \"))"
      ],
      "metadata": {
        "colab": {
          "base_uri": "https://localhost:8080/"
        },
        "id": "8jyRugEnm6CF",
        "outputId": "827fde8a-12db-4f1a-cb6d-c752f94fe824"
      },
      "execution_count": 4,
      "outputs": [
        {
          "name": "stdout",
          "output_type": "stream",
          "text": [
            "Enter Your Name :- ajay\n",
            "Enter Your Age :- 25\n"
          ]
        }
      ]
    },
    {
      "cell_type": "code",
      "source": [
        "# 3. Write code to print all the pre-defined keywords in Python using the keyword library8\n",
        "import keyword\n",
        "print(keyword.kwlist)"
      ],
      "metadata": {
        "colab": {
          "base_uri": "https://localhost:8080/"
        },
        "id": "ImF_Z82MnlUP",
        "outputId": "66595acc-5ebc-473d-d901-40d25d217a90"
      },
      "execution_count": 10,
      "outputs": [
        {
          "output_type": "stream",
          "name": "stdout",
          "text": [
            "['False', 'None', 'True', 'and', 'as', 'assert', 'async', 'await', 'break', 'class', 'continue', 'def', 'del', 'elif', 'else', 'except', 'finally', 'for', 'from', 'global', 'if', 'import', 'in', 'is', 'lambda', 'nonlocal', 'not', 'or', 'pass', 'raise', 'return', 'try', 'while', 'with', 'yield']\n"
          ]
        }
      ]
    },
    {
      "cell_type": "code",
      "source": [
        "# 4. Write a program that checks if a given word is a Python keyword.\n",
        "import keyword\n",
        "word = input(\"Enter your Word :-\")\n",
        "if keyword.iskeyword(word):\n",
        "  print(f\"'{word}' is a Python keyword.\")\n",
        "else:\n",
        "  print(f\"'{word}' is not a Python keyword.\")"
      ],
      "metadata": {
        "colab": {
          "base_uri": "https://localhost:8080/"
        },
        "id": "rHezE4OGqrTe",
        "outputId": "a184fa01-90f5-4b04-c4a7-3f4828cae1a6"
      },
      "execution_count": 18,
      "outputs": [
        {
          "output_type": "stream",
          "name": "stdout",
          "text": [
            "Enter your Word :-if\n",
            "'if' is a Python keyword.\n"
          ]
        }
      ]
    },
    {
      "cell_type": "code",
      "source": [
        "# 5. Create a list and tuple in Python, and demonstrate how attempting to change an element works differently for each.\n",
        "\n",
        "# List\n",
        "my_list = [12,46,76,87]\n",
        "my_list[2]\n",
        "my_list[2] = 50  # Changing the element\n",
        "my_list\n",
        "\n",
        "# Tuple\n",
        "my_tuple = (12,32,45,76)\n",
        "my_tuple\n",
        "my_tuple[1]\n",
        "# my_tuple [1] = 30   # This will raise an error\n",
        "# my_tuple\n",
        "\n",
        "# Note :- Python does not allow changing elements of a tuple."
      ],
      "metadata": {
        "colab": {
          "base_uri": "https://localhost:8080/",
          "height": 193
        },
        "id": "wT8UF9vttYKn",
        "outputId": "76262da1-10cc-4299-a61a-847b30af4e4a"
      },
      "execution_count": 25,
      "outputs": [
        {
          "output_type": "error",
          "ename": "TypeError",
          "evalue": "'tuple' object does not support item assignment",
          "traceback": [
            "\u001b[0;31m---------------------------------------------------------------------------\u001b[0m",
            "\u001b[0;31mTypeError\u001b[0m                                 Traceback (most recent call last)",
            "\u001b[0;32m/tmp/ipython-input-25-260523132.py\u001b[0m in \u001b[0;36m<cell line: 0>\u001b[0;34m()\u001b[0m\n\u001b[1;32m     11\u001b[0m \u001b[0mmy_tuple\u001b[0m\u001b[0;34m\u001b[0m\u001b[0;34m\u001b[0m\u001b[0m\n\u001b[1;32m     12\u001b[0m \u001b[0mmy_tuple\u001b[0m\u001b[0;34m[\u001b[0m\u001b[0;36m1\u001b[0m\u001b[0;34m]\u001b[0m\u001b[0;34m\u001b[0m\u001b[0;34m\u001b[0m\u001b[0m\n\u001b[0;32m---> 13\u001b[0;31m \u001b[0mmy_tuple\u001b[0m \u001b[0;34m[\u001b[0m\u001b[0;36m1\u001b[0m\u001b[0;34m]\u001b[0m \u001b[0;34m=\u001b[0m \u001b[0;36m30\u001b[0m\u001b[0;34m\u001b[0m\u001b[0;34m\u001b[0m\u001b[0m\n\u001b[0m\u001b[1;32m     14\u001b[0m \u001b[0mmy_tuple\u001b[0m\u001b[0;34m\u001b[0m\u001b[0;34m\u001b[0m\u001b[0m\n",
            "\u001b[0;31mTypeError\u001b[0m: 'tuple' object does not support item assignment"
          ]
        }
      ]
    },
    {
      "cell_type": "code",
      "source": [
        "# 6. Write a function to demonstrate the behavior of mutable and immutable argument\n",
        "\n",
        "x = 15               # Immutable (int)\n",
        "y = [11, 22, 33]       # Mutable (list)\n",
        "\n",
        "def mutable_immutable(num, num_list):\n",
        "    print(\"Before change:\")\n",
        "    print(\"num =\", num)\n",
        "    print(\"num_list =\", num_list)\n",
        "\n",
        "    num += 10               # Trying to change the immutable integer\n",
        "    num_list.append(100)    # Modifying the mutable list\n",
        "\n",
        "    print(\"After change:\")\n",
        "    print(\"num =\", num)\n",
        "    print(\"num_list =\", num_list)\n",
        "\n",
        "\n",
        "test_mutable_immutable(x, y)\n",
        "\n",
        "print(\"\\nOutside the function:\")\n",
        "print(\"x =\", x)      # x remains unchanged\n",
        "print(\"y =\", y)      # y gets modified\n",
        "\n"
      ],
      "metadata": {
        "colab": {
          "base_uri": "https://localhost:8080/"
        },
        "id": "M4q_YTu-9zq-",
        "outputId": "72e84ab3-5470-4e27-de83-708e51ebb423"
      },
      "execution_count": 29,
      "outputs": [
        {
          "output_type": "stream",
          "name": "stdout",
          "text": [
            "Before change:\n",
            "num = 15\n",
            "num_list = [11, 22, 33]\n",
            "After change:\n",
            "num = 25\n",
            "num_list = [11, 22, 33, 100]\n",
            "\n",
            "Outside the function:\n",
            "x = 15\n",
            "y = [11, 22, 33, 100]\n"
          ]
        }
      ]
    },
    {
      "cell_type": "code",
      "source": [
        "# 7. Write a program that performs basic arithmetic operations on two user-input numbers.\n",
        "\n",
        "num1 = int(input(\"Enter the Fist Number :- \"))\n",
        "num2 = int(input(\"Enter the Second Number :- \"))\n",
        "\n",
        "print(f\"Addition of two number :- {num1} and {num2} :- Total is {num1+num2}\")\n",
        "print(f\"Subtraction of two number :- {num1} and {num2} :- Total is {num1-num2}\")\n",
        "print(f\"multiplication of two number :- {num1} and {num2} :- Total is {num1*num2}\")\n",
        "print(f\"Division of two number :- {num1} and {num2} :- Total is {num1/num2}\")"
      ],
      "metadata": {
        "colab": {
          "base_uri": "https://localhost:8080/"
        },
        "id": "0ZiZCHBjASND",
        "outputId": "b3e8814b-73c0-4da9-f739-150622711452"
      },
      "execution_count": 35,
      "outputs": [
        {
          "output_type": "stream",
          "name": "stdout",
          "text": [
            "Enter the Fist Number :- 12\n",
            "Enter the Second Number :- 2\n",
            "Addition of two number :- 12 and 2 :- Total is 14\n",
            "Subtraction of two number :- 12 and 2 :- Total is 10\n",
            "multiplication of two number :- 12 and 2 :- Total is 24\n",
            "Division of two number :- 12 and 2 :- Total is 6.0\n"
          ]
        }
      ]
    },
    {
      "cell_type": "code",
      "source": [
        "# 8. Write a program to demonstrate the use of logical operators.\n",
        "User_Name = input(\"Enter The Name :- \")\n",
        "User_Password = input(\"Enter The Password :- \")\n",
        "\n",
        "Correct_User_Name = \"admin\"\n",
        "Correct_User_Password = \"123\"\n",
        "\n",
        "if User_Name == Correct_User_Name and User_Password == Correct_User_Password:\n",
        "  print(\"Login Successfuly\")\n",
        "else:\n",
        "  print(\"Login failed\")"
      ],
      "metadata": {
        "colab": {
          "base_uri": "https://localhost:8080/"
        },
        "id": "u3Zv5qUoD_Ae",
        "outputId": "d403a404-f246-4520-f358-bb088bb4f2e9"
      },
      "execution_count": 41,
      "outputs": [
        {
          "output_type": "stream",
          "name": "stdout",
          "text": [
            "Enter The Name :- admin\n",
            "Enter The Password :- 123\n",
            "Login Successfuly\n"
          ]
        }
      ]
    },
    {
      "cell_type": "markdown",
      "source": [],
      "metadata": {
        "id": "nu0xX6-sOK3O"
      }
    },
    {
      "cell_type": "code",
      "source": [
        "# 9. Write a Python program to convert user input from string to integer, float, and boolean types.\n",
        "User_Input = input(\"Enter the value :- \")\n",
        "\n",
        "int_Value = int(User_Input)\n",
        "print(\"Integer : \", int_Value)\n",
        "Float_Value = float(User_Input)\n",
        "print(\"Float : \", Float_Value)\n",
        "bool_Value = bool(User_Input)\n",
        "print(\"Boolean : \", bool_Value)\n"
      ],
      "metadata": {
        "colab": {
          "base_uri": "https://localhost:8080/"
        },
        "id": "5J8yRkATN0XQ",
        "outputId": "24b1f61e-0e84-4a27-f8f5-685292c8b155"
      },
      "execution_count": 62,
      "outputs": [
        {
          "output_type": "stream",
          "name": "stdout",
          "text": [
            "Enter the value :- 23\n",
            "Integer :  23\n",
            "Float :  23.0\n",
            "Boolean :  True\n"
          ]
        }
      ]
    },
    {
      "cell_type": "markdown",
      "source": [],
      "metadata": {
        "id": "yfP92jR798ad"
      }
    },
    {
      "cell_type": "code",
      "source": [
        "# 10. Write code to demonstrate type casting with list elements.\n",
        "\n",
        "str_list = [1,3,4,5.6,2,7]\n",
        "\n",
        "int_list =[int(item) for item in str_list]\n",
        "print(\"List after casting to Integers: \",int_list)\n",
        "\n",
        "float_list =[float(item) for item in str_list]\n",
        "print(\"List after casting to Float: \",float_list)\n",
        "\n",
        "bool_list =[bool(item) for item in str_list]\n",
        "print(\"List after casting to Boolean: \",bool_list)"
      ],
      "metadata": {
        "colab": {
          "base_uri": "https://localhost:8080/"
        },
        "id": "be0OAHekUoeQ",
        "outputId": "4a0ddf23-47a0-4190-def4-3fd93fc6a367"
      },
      "execution_count": 70,
      "outputs": [
        {
          "output_type": "stream",
          "name": "stdout",
          "text": [
            "List after casting to Integers:  [1, 3, 4, 5, 2, 7]\n",
            "List after casting to Float:  [1.0, 3.0, 4.0, 5.6, 2.0, 7.0]\n",
            "List after casting to Boolean:  [True, True, True, True, True, True]\n"
          ]
        }
      ]
    },
    {
      "cell_type": "code",
      "source": [
        "# 11. Write a program that checks if a number is positive, negative, or zero.\n",
        "User_Number = int(input(\"Enter the Number :- \"))\n",
        "\n",
        "if User_Number > 0:\n",
        "  print(\"Number is positive\")\n",
        "elif User_Number< 0 :\n",
        "  print(\"Number is negative\")\n",
        "else :\n",
        "  print(\"Number is zero\")"
      ],
      "metadata": {
        "colab": {
          "base_uri": "https://localhost:8080/"
        },
        "id": "E5RHzfDqXJmF",
        "outputId": "e635f768-7d1e-4ee2-ef7c-7a0b44ae1d3f"
      },
      "execution_count": 73,
      "outputs": [
        {
          "output_type": "stream",
          "name": "stdout",
          "text": [
            "Enter the Number-23\n",
            "Number is negative\n"
          ]
        }
      ]
    },
    {
      "cell_type": "code",
      "source": [
        "# 12. Write a for loop to print numbers from 1 to 10.\n",
        "\n",
        "for i in range (1,11):\n",
        "  print(i)"
      ],
      "metadata": {
        "colab": {
          "base_uri": "https://localhost:8080/"
        },
        "id": "qbxGUb9wX9Ky",
        "outputId": "a6a25d8b-e723-4ab9-8307-02b28f5a202e"
      },
      "execution_count": 75,
      "outputs": [
        {
          "output_type": "stream",
          "name": "stdout",
          "text": [
            "1\n",
            "2\n",
            "3\n",
            "4\n",
            "5\n",
            "6\n",
            "7\n",
            "8\n",
            "9\n",
            "10\n"
          ]
        }
      ]
    },
    {
      "cell_type": "code",
      "source": [
        "# 13. Write a Python program to find the sum of all even numbers between 1 and 50\n",
        "sum = 0\n",
        "for i in range(1,51):\n",
        "  if i%2 == 0:\n",
        "    sum += i\n",
        "\n",
        "print(\"Sum Of Even Number :- \",sum)"
      ],
      "metadata": {
        "colab": {
          "base_uri": "https://localhost:8080/"
        },
        "id": "sOh4GTElYXyC",
        "outputId": "36b5f957-62e8-49b8-b739-5bacea494052"
      },
      "execution_count": 82,
      "outputs": [
        {
          "output_type": "stream",
          "name": "stdout",
          "text": [
            "Sum Of Even Number :-  650\n"
          ]
        }
      ]
    },
    {
      "cell_type": "code",
      "source": [
        "# 14. Write a program to reverse a string using a while loop\n",
        "\n",
        "input_string = input(\"Enter the String :- \")\n",
        "reversed_string = \"\"\n",
        "index = len(input_string) - 1\n",
        "\n",
        "while index >= 0:\n",
        "    reversed_string += input_string[index]\n",
        "    index -= 1\n",
        "\n",
        "print(\"Reversed String:\", reversed_string)\n"
      ],
      "metadata": {
        "colab": {
          "base_uri": "https://localhost:8080/"
        },
        "id": "w854LzBiZ-Ns",
        "outputId": "eec83ced-08fb-413f-916b-2c366dccc2e4"
      },
      "execution_count": 84,
      "outputs": [
        {
          "output_type": "stream",
          "name": "stdout",
          "text": [
            "Enter the Stringaajaay\n",
            "Reversed String: yaajaa\n"
          ]
        }
      ]
    },
    {
      "cell_type": "code",
      "source": [
        "# 15. Write a Python program to calculate the factorial of a number provided by the user using a while loop.\n",
        "\n",
        "num = int(input(\"Enter a number to calculate its factorial: \"))\n",
        "\n",
        "factorial = 1\n",
        "count = num\n",
        "\n",
        "while count > 0:\n",
        "    factorial *= count\n",
        "    count -= 1# Print the result\n",
        "print(f\"The factorial of {num} is {factorial}.\")\n"
      ],
      "metadata": {
        "colab": {
          "base_uri": "https://localhost:8080/"
        },
        "id": "vzd1aS4teD2t",
        "outputId": "8f7fdba8-d7c5-44fb-e2aa-a54ccdfb536a"
      },
      "execution_count": 87,
      "outputs": [
        {
          "output_type": "stream",
          "name": "stdout",
          "text": [
            "Enter a number to calculate its factorial: 10\n",
            "The factorial of 10 is 3628800.\n"
          ]
        }
      ]
    }
  ]
}